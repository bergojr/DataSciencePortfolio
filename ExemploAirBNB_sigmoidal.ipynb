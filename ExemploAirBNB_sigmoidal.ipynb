{
  "nbformat": 4,
  "nbformat_minor": 0,
  "metadata": {
    "colab": {
      "name": "ExemploAirBNB_sigmoidal.ipynb",
      "provenance": [],
      "authorship_tag": "ABX9TyPCySYNGaT3c3GkI3JlAqTe",
      "include_colab_link": true
    },
    "kernelspec": {
      "name": "python3",
      "display_name": "Python 3"
    }
  },
  "cells": [
    {
      "cell_type": "markdown",
      "metadata": {
        "id": "view-in-github",
        "colab_type": "text"
      },
      "source": [
        "<a href=\"https://colab.research.google.com/github/bergojr/DataSciencePortfolio/blob/main/ExemploAirBNB_sigmoidal.ipynb\" target=\"_parent\"><img src=\"https://colab.research.google.com/assets/colab-badge.svg\" alt=\"Open In Colab\"/></a>"
      ]
    },
    {
      "cell_type": "markdown",
      "metadata": {
        "id": "knl9GCoprgfd"
      },
      "source": [
        "#Objetivo\r\n",
        "\r\n",
        "A proposta para este notebook utilizar o módulo pandas com dados obtidos no site *nsideairbnb* onde há disponível dados para a cidade do Rio de Janeiro.\r\n",
        "\r\n",
        "Nesse primeiro momento as experimentações são guiadas pelo Prof. Carlos Melo do curso Data Science na Prática do Sigmoidal. O estudo completo está disponível nesse [link](https://colab.research.google.com/drive/1rEPR7KPbBLlsEadYD0jgy1eKUKyDo02A)."
      ]
    },
    {
      "cell_type": "markdown",
      "metadata": {
        "id": "X7dnLJP-svNt"
      },
      "source": [
        "# Obtenção dos dados\r\n",
        "\r\n",
        "Todos os dados usados aqui foram obtidos a partir do site [Inside Airbnb](http://insideairbnb.com/get-the-data.html).\r\n",
        "\r\n",
        "Para esta análise exploratória inicial, será baixado apenas o seguinte arquivo:\r\n",
        "\r\n",
        "* `listings.csv` - *Summary information and metrics for listings in Rio de Janeiro (good for visualisations).*"
      ]
    },
    {
      "cell_type": "code",
      "metadata": {
        "id": "2yF-H0h2s_Xb"
      },
      "source": [
        "# Bibliotecas necessárias\r\n",
        "\r\n",
        "import pandas as pd\r\n",
        "import matplotlib.pyplot as plt\r\n",
        "import seaborn as sns\r\n",
        "\r\n",
        "%matplotlib inline"
      ],
      "execution_count": 1,
      "outputs": []
    },
    {
      "cell_type": "code",
      "metadata": {
        "id": "M9Gd9rOA-cbw"
      },
      "source": [
        "# importar arquivo para análise\r\n",
        "\r\n",
        "df =  pd.read_csv('http://data.insideairbnb.com/brazil/rj/rio-de-janeiro/2020-12-23/visualisations/listings.csv')"
      ],
      "execution_count": 2,
      "outputs": []
    },
    {
      "cell_type": "code",
      "metadata": {
        "colab": {
          "base_uri": "https://localhost:8080/",
          "height": 445
        },
        "id": "Y7-Buk-h-3dS",
        "outputId": "8fff9789-b40c-4496-d5d8-bef646220b2a"
      },
      "source": [
        "df.head()"
      ],
      "execution_count": 3,
      "outputs": [
        {
          "output_type": "execute_result",
          "data": {
            "text/html": [
              "<div>\n",
              "<style scoped>\n",
              "    .dataframe tbody tr th:only-of-type {\n",
              "        vertical-align: middle;\n",
              "    }\n",
              "\n",
              "    .dataframe tbody tr th {\n",
              "        vertical-align: top;\n",
              "    }\n",
              "\n",
              "    .dataframe thead th {\n",
              "        text-align: right;\n",
              "    }\n",
              "</style>\n",
              "<table border=\"1\" class=\"dataframe\">\n",
              "  <thead>\n",
              "    <tr style=\"text-align: right;\">\n",
              "      <th></th>\n",
              "      <th>id</th>\n",
              "      <th>name</th>\n",
              "      <th>host_id</th>\n",
              "      <th>host_name</th>\n",
              "      <th>neighbourhood_group</th>\n",
              "      <th>neighbourhood</th>\n",
              "      <th>latitude</th>\n",
              "      <th>longitude</th>\n",
              "      <th>room_type</th>\n",
              "      <th>price</th>\n",
              "      <th>minimum_nights</th>\n",
              "      <th>number_of_reviews</th>\n",
              "      <th>last_review</th>\n",
              "      <th>reviews_per_month</th>\n",
              "      <th>calculated_host_listings_count</th>\n",
              "      <th>availability_365</th>\n",
              "    </tr>\n",
              "  </thead>\n",
              "  <tbody>\n",
              "    <tr>\n",
              "      <th>0</th>\n",
              "      <td>17878</td>\n",
              "      <td>Very Nice 2Br in Copacabana w. balcony, fast WiFi</td>\n",
              "      <td>68997</td>\n",
              "      <td>Matthias</td>\n",
              "      <td>NaN</td>\n",
              "      <td>Copacabana</td>\n",
              "      <td>-22.96592</td>\n",
              "      <td>-43.17896</td>\n",
              "      <td>Entire home/apt</td>\n",
              "      <td>500</td>\n",
              "      <td>5</td>\n",
              "      <td>259</td>\n",
              "      <td>2020-12-26</td>\n",
              "      <td>2.03</td>\n",
              "      <td>1</td>\n",
              "      <td>0</td>\n",
              "    </tr>\n",
              "    <tr>\n",
              "      <th>1</th>\n",
              "      <td>25026</td>\n",
              "      <td>Beautiful Modern Decorated Studio in Copa</td>\n",
              "      <td>3746246</td>\n",
              "      <td>Ghizlane</td>\n",
              "      <td>NaN</td>\n",
              "      <td>Copacabana</td>\n",
              "      <td>-22.97712</td>\n",
              "      <td>-43.19045</td>\n",
              "      <td>Entire home/apt</td>\n",
              "      <td>160</td>\n",
              "      <td>7</td>\n",
              "      <td>238</td>\n",
              "      <td>2020-02-15</td>\n",
              "      <td>1.85</td>\n",
              "      <td>11</td>\n",
              "      <td>335</td>\n",
              "    </tr>\n",
              "    <tr>\n",
              "      <th>2</th>\n",
              "      <td>35636</td>\n",
              "      <td>Cosy flat close to Ipanema beach</td>\n",
              "      <td>153232</td>\n",
              "      <td>Patricia</td>\n",
              "      <td>NaN</td>\n",
              "      <td>Ipanema</td>\n",
              "      <td>-22.98816</td>\n",
              "      <td>-43.19359</td>\n",
              "      <td>Entire home/apt</td>\n",
              "      <td>259</td>\n",
              "      <td>2</td>\n",
              "      <td>181</td>\n",
              "      <td>2020-03-15</td>\n",
              "      <td>2.07</td>\n",
              "      <td>1</td>\n",
              "      <td>267</td>\n",
              "    </tr>\n",
              "    <tr>\n",
              "      <th>3</th>\n",
              "      <td>35764</td>\n",
              "      <td>COPACABANA SEA BREEZE  -  RIO - 20 X Superhost</td>\n",
              "      <td>153691</td>\n",
              "      <td>Patricia Miranda &amp; Paulo</td>\n",
              "      <td>NaN</td>\n",
              "      <td>Copacabana</td>\n",
              "      <td>-22.98127</td>\n",
              "      <td>-43.19046</td>\n",
              "      <td>Entire home/apt</td>\n",
              "      <td>157</td>\n",
              "      <td>3</td>\n",
              "      <td>346</td>\n",
              "      <td>2020-12-20</td>\n",
              "      <td>2.78</td>\n",
              "      <td>1</td>\n",
              "      <td>89</td>\n",
              "    </tr>\n",
              "    <tr>\n",
              "      <th>4</th>\n",
              "      <td>41198</td>\n",
              "      <td>Modern 2bed,Top end of Copacabana</td>\n",
              "      <td>178975</td>\n",
              "      <td>Nicky</td>\n",
              "      <td>NaN</td>\n",
              "      <td>Copacabana</td>\n",
              "      <td>-22.97962</td>\n",
              "      <td>-43.19230</td>\n",
              "      <td>Entire home/apt</td>\n",
              "      <td>1035</td>\n",
              "      <td>3</td>\n",
              "      <td>18</td>\n",
              "      <td>2016-02-09</td>\n",
              "      <td>0.19</td>\n",
              "      <td>2</td>\n",
              "      <td>365</td>\n",
              "    </tr>\n",
              "  </tbody>\n",
              "</table>\n",
              "</div>"
            ],
            "text/plain": [
              "      id  ... availability_365\n",
              "0  17878  ...                0\n",
              "1  25026  ...              335\n",
              "2  35636  ...              267\n",
              "3  35764  ...               89\n",
              "4  41198  ...              365\n",
              "\n",
              "[5 rows x 16 columns]"
            ]
          },
          "metadata": {
            "tags": []
          },
          "execution_count": 3
        }
      ]
    },
    {
      "cell_type": "markdown",
      "metadata": {
        "id": "SUOfSq-B_GAA"
      },
      "source": [
        "# Análise de dados\r\n",
        "\r\n",
        "Os dados serão analisado pra avalar a sua avaliar informações disponíveis. \r\n",
        "\r\n",
        "Descrição de cada campo:\r\n",
        "\r\n",
        "\r\n",
        "\r\n",
        "*   id: identificação do imóvel\r\n",
        "*   name: nome do imóvel\r\n",
        "*   host_id: identificação do proprietário\r\n",
        "*   host_name: proprietário\r\n",
        "*   neighbourhood_group: grupo da vizinhança\r\n",
        "*   neighbourhood: vizinança\r\n",
        "*   latitude: latitude\r\n",
        "*   longitude: longitude\r\n",
        "*   room_type: tipo do imóvel\r\n",
        "*   price:  preço\r\n",
        "*   minimum_nights: número mínimo de diárias\r\n",
        "*   number_of_reviews: quantidade de avaliações\r\n",
        "*   last_review: última avaliação\r\n",
        "*   reviews_per_month: avaliações por mês\r\n",
        "*   calculated_host_listings_count: hóspedes\r\n",
        "*   availability_365: disponibilidade anual\r\n",
        "\r\n",
        "Vamos ver como esses dados se organizam."
      ]
    },
    {
      "cell_type": "code",
      "metadata": {
        "colab": {
          "base_uri": "https://localhost:8080/"
        },
        "id": "Ywa77_XIDck2",
        "outputId": "860826a5-8c84-4641-a0d3-be4305725612"
      },
      "source": [
        "df.keys()"
      ],
      "execution_count": 7,
      "outputs": [
        {
          "output_type": "execute_result",
          "data": {
            "text/plain": [
              "Index(['id', 'name', 'host_id', 'host_name', 'neighbourhood_group',\n",
              "       'neighbourhood', 'latitude', 'longitude', 'room_type', 'price',\n",
              "       'minimum_nights', 'number_of_reviews', 'last_review',\n",
              "       'reviews_per_month', 'calculated_host_listings_count',\n",
              "       'availability_365'],\n",
              "      dtype='object')"
            ]
          },
          "metadata": {
            "tags": []
          },
          "execution_count": 7
        }
      ]
    },
    {
      "cell_type": "markdown",
      "metadata": {
        "id": "fn0VQHSZJS8Q"
      },
      "source": [
        "\r\n",
        "# Q1. Quantos atributos esse conjunto de dados possui? Quais os tipos de variáveis?"
      ]
    },
    {
      "cell_type": "code",
      "metadata": {
        "colab": {
          "base_uri": "https://localhost:8080/",
          "height": 340
        },
        "id": "AbRolqy2HuRW",
        "outputId": "dd9daead-5fab-4f04-d9d9-5fe78f862bd8"
      },
      "source": [
        "# Identificar o volume de dados do DataFrame\r\n",
        "print(\"Entradas:\\t {}\".format(df.shape[0]))\r\n",
        "print(\"Variáveis:\\t {}\".format(df.shape[1]))\r\n",
        "\r\n",
        "# verificar os tipos de variável do dataset\r\n",
        "display(df.dtypes)"
      ],
      "execution_count": 8,
      "outputs": [
        {
          "output_type": "stream",
          "text": [
            "Entradas:\t 25784\n",
            "Variáveis:\t 16\n"
          ],
          "name": "stdout"
        },
        {
          "output_type": "display_data",
          "data": {
            "text/plain": [
              "id                                  int64\n",
              "name                               object\n",
              "host_id                             int64\n",
              "host_name                          object\n",
              "neighbourhood_group               float64\n",
              "neighbourhood                      object\n",
              "latitude                          float64\n",
              "longitude                         float64\n",
              "room_type                          object\n",
              "price                               int64\n",
              "minimum_nights                      int64\n",
              "number_of_reviews                   int64\n",
              "last_review                        object\n",
              "reviews_per_month                 float64\n",
              "calculated_host_listings_count      int64\n",
              "availability_365                    int64\n",
              "dtype: object"
            ]
          },
          "metadata": {
            "tags": []
          }
        }
      ]
    },
    {
      "cell_type": "markdown",
      "metadata": {
        "id": "AvCr8c04Jf3K"
      },
      "source": [
        "# Q2. Qual a porcentagem de valore ausentes no dataset?\r\n",
        "\r\n",
        "Essa informação é muito relevante para se ter uma ideia da qualidade dos dados. Desta forma avalia-se se vale a pena considerar ou não cada uma das variáveis.\r\n",
        "\r\n",
        "*   A variável ```neighbourhood_group``` é nula para todas as linhas.\r\n",
        "*   Aproximadamente 40% das variáveis ```reviews_per_month ``` e ```last_review ``` são nulas \r\n",
        "*   As variáveis ```name``` e ```host_name``` possuem menos de 0,1% de valores nulos.\r\n",
        "\r\n"
      ]
    },
    {
      "cell_type": "code",
      "metadata": {
        "colab": {
          "base_uri": "https://localhost:8080/"
        },
        "id": "R97aTL4aFIIB",
        "outputId": "048f9726-b6ef-4fee-eca3-a1b3e05382a5"
      },
      "source": [
        "# ordenar as variáveis pelos valores ausentes\r\n",
        "(df.isnull().sum() / df.shape[0]).sort_values(ascending = False) * 100"
      ],
      "execution_count": 14,
      "outputs": [
        {
          "output_type": "execute_result",
          "data": {
            "text/plain": [
              "neighbourhood_group               100.000000\n",
              "reviews_per_month                  38.520012\n",
              "last_review                        38.520012\n",
              "name                                0.112473\n",
              "host_name                           0.031027\n",
              "availability_365                    0.000000\n",
              "calculated_host_listings_count      0.000000\n",
              "number_of_reviews                   0.000000\n",
              "minimum_nights                      0.000000\n",
              "price                               0.000000\n",
              "room_type                           0.000000\n",
              "longitude                           0.000000\n",
              "latitude                            0.000000\n",
              "neighbourhood                       0.000000\n",
              "host_id                             0.000000\n",
              "id                                  0.000000\n",
              "dtype: float64"
            ]
          },
          "metadata": {
            "tags": []
          },
          "execution_count": 14
        }
      ]
    },
    {
      "cell_type": "markdown",
      "metadata": {
        "id": "KrYSudCSL24D"
      },
      "source": [
        "# Q3. Qual o tipo de distribuição das variáveis\r\n",
        "\r\n",
        "Uma boa forma de avaliar como as variáveis são distribuídas é por meio de histogramas."
      ]
    },
    {
      "cell_type": "code",
      "metadata": {
        "colab": {
          "base_uri": "https://localhost:8080/",
          "height": 607
        },
        "id": "B-Ptw4lOMI9C",
        "outputId": "e73dca85-0eb6-4504-c3f9-a53d9d8ce770"
      },
      "source": [
        "df.hist(bins=15, figsize= (15,10));"
      ],
      "execution_count": 17,
      "outputs": [
        {
          "output_type": "display_data",
          "data": {
            "image/png": "[encoded data removed]",
            "text/plain": [
              "<Figure size 1080x720 with 12 Axes>"
            ]
          },
          "metadata": {
            "tags": [],
            "needs_background": "light"
          }
        }
      ]
    },
    {
      "cell_type": "markdown",
      "metadata": {
        "id": "0zUlnoxbQ03i"
      },
      "source": [
        "# Q.4 Há *outliers* nos dados?\r\n",
        "\r\n",
        "Uma simples observação dos histogramas indica a existência de *outliers*."
      ]
    },
    {
      "cell_type": "code",
      "metadata": {
        "colab": {
          "base_uri": "https://localhost:8080/",
          "height": 317
        },
        "id": "eglRW82WRdez",
        "outputId": "4317f1c3-c6b2-40e1-9c33-ef790fc6ec5c"
      },
      "source": [
        "# resumo estatístico dos dados\r\n",
        "\r\n",
        "df[['price' , 'minimum_nights' , 'number_of_reviews' , 'reviews_per_month' , \r\n",
        "    'calculated_host_listings_count' , 'availability_365']].describe()"
      ],
      "execution_count": 20,
      "outputs": [
        {
          "output_type": "execute_result",
          "data": {
            "text/html": [
              "<div>\n",
              "<style scoped>\n",
              "    .dataframe tbody tr th:only-of-type {\n",
              "        vertical-align: middle;\n",
              "    }\n",
              "\n",
              "    .dataframe tbody tr th {\n",
              "        vertical-align: top;\n",
              "    }\n",
              "\n",
              "    .dataframe thead th {\n",
              "        text-align: right;\n",
              "    }\n",
              "</style>\n",
              "<table border=\"1\" class=\"dataframe\">\n",
              "  <thead>\n",
              "    <tr style=\"text-align: right;\">\n",
              "      <th></th>\n",
              "      <th>price</th>\n",
              "      <th>minimum_nights</th>\n",
              "      <th>number_of_reviews</th>\n",
              "      <th>reviews_per_month</th>\n",
              "      <th>calculated_host_listings_count</th>\n",
              "      <th>availability_365</th>\n",
              "    </tr>\n",
              "  </thead>\n",
              "  <tbody>\n",
              "    <tr>\n",
              "      <th>count</th>\n",
              "      <td>25784.000000</td>\n",
              "      <td>25784.000000</td>\n",
              "      <td>25784.000000</td>\n",
              "      <td>15852.000000</td>\n",
              "      <td>25784.000000</td>\n",
              "      <td>25784.000000</td>\n",
              "    </tr>\n",
              "    <tr>\n",
              "      <th>mean</th>\n",
              "      <td>879.820664</td>\n",
              "      <td>4.767491</td>\n",
              "      <td>11.960479</td>\n",
              "      <td>0.590130</td>\n",
              "      <td>6.582532</td>\n",
              "      <td>215.296114</td>\n",
              "    </tr>\n",
              "    <tr>\n",
              "      <th>std</th>\n",
              "      <td>5179.764367</td>\n",
              "      <td>19.042074</td>\n",
              "      <td>29.371931</td>\n",
              "      <td>0.819468</td>\n",
              "      <td>19.995586</td>\n",
              "      <td>140.893876</td>\n",
              "    </tr>\n",
              "    <tr>\n",
              "      <th>min</th>\n",
              "      <td>0.000000</td>\n",
              "      <td>1.000000</td>\n",
              "      <td>0.000000</td>\n",
              "      <td>0.010000</td>\n",
              "      <td>1.000000</td>\n",
              "      <td>0.000000</td>\n",
              "    </tr>\n",
              "    <tr>\n",
              "      <th>25%</th>\n",
              "      <td>200.000000</td>\n",
              "      <td>1.000000</td>\n",
              "      <td>0.000000</td>\n",
              "      <td>0.100000</td>\n",
              "      <td>1.000000</td>\n",
              "      <td>83.000000</td>\n",
              "    </tr>\n",
              "    <tr>\n",
              "      <th>50%</th>\n",
              "      <td>380.000000</td>\n",
              "      <td>2.000000</td>\n",
              "      <td>1.000000</td>\n",
              "      <td>0.240000</td>\n",
              "      <td>1.000000</td>\n",
              "      <td>247.000000</td>\n",
              "    </tr>\n",
              "    <tr>\n",
              "      <th>75%</th>\n",
              "      <td>776.000000</td>\n",
              "      <td>4.000000</td>\n",
              "      <td>9.000000</td>\n",
              "      <td>0.780000</td>\n",
              "      <td>3.000000</td>\n",
              "      <td>359.000000</td>\n",
              "    </tr>\n",
              "    <tr>\n",
              "      <th>max</th>\n",
              "      <td>593266.000000</td>\n",
              "      <td>1000.000000</td>\n",
              "      <td>431.000000</td>\n",
              "      <td>14.550000</td>\n",
              "      <td>200.000000</td>\n",
              "      <td>365.000000</td>\n",
              "    </tr>\n",
              "  </tbody>\n",
              "</table>\n",
              "</div>"
            ],
            "text/plain": [
              "               price  ...  availability_365\n",
              "count   25784.000000  ...      25784.000000\n",
              "mean      879.820664  ...        215.296114\n",
              "std      5179.764367  ...        140.893876\n",
              "min         0.000000  ...          0.000000\n",
              "25%       200.000000  ...         83.000000\n",
              "50%       380.000000  ...        247.000000\n",
              "75%       776.000000  ...        359.000000\n",
              "max    593266.000000  ...        365.000000\n",
              "\n",
              "[8 rows x 6 columns]"
            ]
          },
          "metadata": {
            "tags": []
          },
          "execution_count": 20
        }
      ]
    },
    {
      "cell_type": "markdown",
      "metadata": {
        "id": "LuCNQ5ZLSc8i"
      },
      "source": [
        "Observando o resumo dos dados chama atenção:\r\n",
        "\r\n",
        "\r\n",
        "*   ```price```: **75%** dos preços estão abaixo de **776**, e o valor máximo é **593266.000000**.\r\n",
        "*   ```minimum_nights```: **75%** do mínimo de diárias requeridas está abaixo de **4** e o valor máximo é **1.0000**.\r\n",
        "*   ```number_of_reviews```: **75%** recebem **9** reviews e o valor máximo é **431**.\r\n",
        "*   ```reviews_per_month```: **75%** recebem **0,78** reviews por mês e o valor máximo é **14,5**.\r\n",
        "*   ```calculated_host_listings_count```: **75%** estão abaixo de **3** e o valor máximo é **200**."
      ]
    },
    {
      "cell_type": "markdown",
      "metadata": {
        "id": "F7ToQkgFUxxI"
      },
      "source": [
        "# Boxplot para ```minimum_nights```"
      ]
    },
    {
      "cell_type": "code",
      "metadata": {
        "colab": {
          "base_uri": "https://localhost:8080/",
          "height": 262
        },
        "id": "cEGYOTVTU-Nb",
        "outputId": "456c4012-aaea-42f6-ae79-c67877bad30c"
      },
      "source": [
        "# Minimun_nights\r\n",
        "\r\n",
        "df.minimum_nights.plot(kind = 'box', vert = False, figsize = (15,3))\r\n",
        "plt.show()\r\n",
        "\r\n",
        "# ver quantidade de valores acima de 30 dias para minimum_nights\r\n",
        "print('minimum_nights: valores acima de 30:')\r\n",
        "print(\"{} entradas\".format(len(df['minimum_nights']>30)))\r\n",
        "print(\"{:.4f}%\".format((len(df[df.minimum_nights > 30])/df.shape[0])*100))"
      ],
      "execution_count": 28,
      "outputs": [
        {
          "output_type": "display_data",
          "data": {
            "image/png": "[encoded data removed]",
            "text/plain": [
              "<Figure size 1080x216 with 1 Axes>"
            ]
          },
          "metadata": {
            "tags": [],
            "needs_background": "light"
          }
        },
        {
          "output_type": "stream",
          "text": [
            "minimum_nights: valores acima de 30:\n",
            "25784 entradas\n",
            "0.7718%\n"
          ],
          "name": "stdout"
        }
      ]
    },
    {
      "cell_type": "markdown",
      "metadata": {
        "id": "OnTm_iNfXRgu"
      },
      "source": [
        "# Boxplot para ```price```"
      ]
    },
    {
      "cell_type": "code",
      "metadata": {
        "colab": {
          "base_uri": "https://localhost:8080/",
          "height": 262
        },
        "id": "kgokQaaCXzi0",
        "outputId": "b8156276-1204-42a0-8268-ce3b5d39ded3"
      },
      "source": [
        "# Price\r\n",
        "\r\n",
        "df.price.plot(kind = 'box', vert = False, figsize = (15,3))\r\n",
        "plt.show()\r\n",
        "\r\n",
        "# ver quantidade de valores com preço acima de 1.500\r\n",
        "print('price: valores acima de 1500:')\r\n",
        "print(\"{} entradas\".format(len(df['price']>1500)))\r\n",
        "print(\"{:.4f}%\".format((len(df[df.price > 1500])/df.shape[0])*100))"
      ],
      "execution_count": 29,
      "outputs": [
        {
          "output_type": "display_data",
          "data": {
            "image/png": "[encoded data removed]",
            "text/plain": [
              "<Figure size 1080x216 with 1 Axes>"
            ]
          },
          "metadata": {
            "tags": [],
            "needs_background": "light"
          }
        },
        {
          "output_type": "stream",
          "text": [
            "price: valores acima de 1500:\n",
            "25784 entradas\n",
            "9.5214%\n"
          ],
          "name": "stdout"
        }
      ]
    },
    {
      "cell_type": "markdown",
      "metadata": {
        "id": "ZWj9YBolYQBW"
      },
      "source": [
        "# Histograma sem *outliers*\r\n",
        "\r\n",
        "Uma vez identificado os outliers, um novo dataframe será gerado para análise.\r\n"
      ]
    },
    {
      "cell_type": "code",
      "metadata": {
        "colab": {
          "base_uri": "https://localhost:8080/",
          "height": 607
        },
        "id": "slnggDxuYf7i",
        "outputId": "8864d8f0-23ab-40d0-d3d8-af3814d2fb8d"
      },
      "source": [
        "# Removendo outliers e criando um novo dataframe\r\n",
        "\r\n",
        "df_clean = df.copy()\r\n",
        "\r\n",
        "df_clean.drop(df_clean[df_clean.price > 1500].index, axis = 0, inplace = True)\r\n",
        "df_clean.drop(df_clean[df_clean.minimum_nights > 30].index, axis = 0, inplace = True)\r\n",
        "\r\n",
        "\r\n",
        "# Removendo a coluna 'neighbourhood_group' que está vazia\r\n",
        "\r\n",
        "df_clean.drop('neighbourhood_group', axis = 1, inplace = True)\r\n",
        "\r\n",
        "# Histograma com o dataframe limpo\r\n",
        "\r\n",
        "df_clean.hist(bins = 15,figsize=(15,10));\r\n"
      ],
      "execution_count": 32,
      "outputs": [
        {
          "output_type": "display_data",
          "data": {
            "image/png": "[encoded data removed]",
            "text/plain": [
              "<Figure size 1080x720 with 12 Axes>"
            ]
          },
          "metadata": {
            "tags": [],
            "needs_background": "light"
          }
        }
      ]
    },
    {
      "cell_type": "markdown",
      "metadata": {
        "id": "OActngNWae93"
      },
      "source": [
        "# Q5. Há correlação entre as variáveis?\r\n",
        "\r\n",
        "A proposta é avaliar uma matriz de correlação que será auxiliada por um *heatmap*."
      ]
    },
    {
      "cell_type": "code",
      "metadata": {
        "colab": {
          "base_uri": "https://localhost:8080/",
          "height": 255
        },
        "id": "m6uvm5nkawYJ",
        "outputId": "e4d853d5-fc68-40ca-fd48-44e6957c5918"
      },
      "source": [
        "# Criar matriz de correlação\r\n",
        "\r\n",
        "corr = df_clean[['price' , 'minimum_nights' , 'number_of_reviews' , 'reviews_per_month' , \r\n",
        "    'calculated_host_listings_count' , 'availability_365']].corr()\r\n",
        "display(corr)"
      ],
      "execution_count": 33,
      "outputs": [
        {
          "output_type": "display_data",
          "data": {
            "text/html": [
              "<div>\n",
              "<style scoped>\n",
              "    .dataframe tbody tr th:only-of-type {\n",
              "        vertical-align: middle;\n",
              "    }\n",
              "\n",
              "    .dataframe tbody tr th {\n",
              "        vertical-align: top;\n",
              "    }\n",
              "\n",
              "    .dataframe thead th {\n",
              "        text-align: right;\n",
              "    }\n",
              "</style>\n",
              "<table border=\"1\" class=\"dataframe\">\n",
              "  <thead>\n",
              "    <tr style=\"text-align: right;\">\n",
              "      <th></th>\n",
              "      <th>price</th>\n",
              "      <th>minimum_nights</th>\n",
              "      <th>number_of_reviews</th>\n",
              "      <th>reviews_per_month</th>\n",
              "      <th>calculated_host_listings_count</th>\n",
              "      <th>availability_365</th>\n",
              "    </tr>\n",
              "  </thead>\n",
              "  <tbody>\n",
              "    <tr>\n",
              "      <th>price</th>\n",
              "      <td>1.000000</td>\n",
              "      <td>0.093798</td>\n",
              "      <td>-0.079755</td>\n",
              "      <td>-0.075201</td>\n",
              "      <td>0.171244</td>\n",
              "      <td>0.049127</td>\n",
              "    </tr>\n",
              "    <tr>\n",
              "      <th>minimum_nights</th>\n",
              "      <td>0.093798</td>\n",
              "      <td>1.000000</td>\n",
              "      <td>-0.069582</td>\n",
              "      <td>-0.102222</td>\n",
              "      <td>-0.029608</td>\n",
              "      <td>-0.002706</td>\n",
              "    </tr>\n",
              "    <tr>\n",
              "      <th>number_of_reviews</th>\n",
              "      <td>-0.079755</td>\n",
              "      <td>-0.069582</td>\n",
              "      <td>1.000000</td>\n",
              "      <td>0.644582</td>\n",
              "      <td>-0.034952</td>\n",
              "      <td>-0.076313</td>\n",
              "    </tr>\n",
              "    <tr>\n",
              "      <th>reviews_per_month</th>\n",
              "      <td>-0.075201</td>\n",
              "      <td>-0.102222</td>\n",
              "      <td>0.644582</td>\n",
              "      <td>1.000000</td>\n",
              "      <td>0.003108</td>\n",
              "      <td>-0.154244</td>\n",
              "    </tr>\n",
              "    <tr>\n",
              "      <th>calculated_host_listings_count</th>\n",
              "      <td>0.171244</td>\n",
              "      <td>-0.029608</td>\n",
              "      <td>-0.034952</td>\n",
              "      <td>0.003108</td>\n",
              "      <td>1.000000</td>\n",
              "      <td>0.008742</td>\n",
              "    </tr>\n",
              "    <tr>\n",
              "      <th>availability_365</th>\n",
              "      <td>0.049127</td>\n",
              "      <td>-0.002706</td>\n",
              "      <td>-0.076313</td>\n",
              "      <td>-0.154244</td>\n",
              "      <td>0.008742</td>\n",
              "      <td>1.000000</td>\n",
              "    </tr>\n",
              "  </tbody>\n",
              "</table>\n",
              "</div>"
            ],
            "text/plain": [
              "                                   price  ...  availability_365\n",
              "price                           1.000000  ...          0.049127\n",
              "minimum_nights                  0.093798  ...         -0.002706\n",
              "number_of_reviews              -0.079755  ...         -0.076313\n",
              "reviews_per_month              -0.075201  ...         -0.154244\n",
              "calculated_host_listings_count  0.171244  ...          0.008742\n",
              "availability_365                0.049127  ...          1.000000\n",
              "\n",
              "[6 rows x 6 columns]"
            ]
          },
          "metadata": {
            "tags": []
          }
        }
      ]
    },
    {
      "cell_type": "code",
      "metadata": {
        "colab": {
          "base_uri": "https://localhost:8080/",
          "height": 411
        },
        "id": "oS51StbAbMlJ",
        "outputId": "e9c078db-2f24-46ba-ef0c-093134cabe71"
      },
      "source": [
        "sns.heatmap(corr, cmap= 'RdBu', fmt='.2f', square=True, linecolor='white', annot=True);"
      ],
      "execution_count": 35,
      "outputs": [
        {
          "output_type": "display_data",
          "data": {
            "image/png": "[encoded data removed]",
            "text/plain": [
              "<Figure size 432x288 with 2 Axes>"
            ]
          },
          "metadata": {
            "tags": [],
            "needs_background": "light"
          }
        }
      ]
    }
  ]
}